{
 "cells": [
  {
   "cell_type": "markdown",
   "metadata": {},
   "source": [
    "Zixuan Chen 61665307"
   ]
  },
  {
   "cell_type": "code",
   "execution_count": 1,
   "metadata": {},
   "outputs": [],
   "source": [
    "import numpy as np\n",
    "import matplotlib.pyplot as plt\n",
    "import sympy as sp\n",
    "from time import perf_counter as clock\n",
    "from beautifultable import BeautifulTable\n",
    "\n",
    "np.random.seed(0)"
   ]
  },
  {
   "cell_type": "markdown",
   "metadata": {},
   "source": [
    "Here I create a Function object aiming to save effort in calculating gradients and printing results later on. It also keep track of the number of function calls\\\n",
    "By using Function and Symbol form the sympy lib, I can make this object printable, callable and also easily differentiable.\\\n",
    "See comments for details about the implementation"
   ]
  },
  {
   "cell_type": "code",
   "execution_count": 2,
   "metadata": {},
   "outputs": [],
   "source": [
    "class Function:\n",
    "    def __init__(self, func_str, symbols, parameter_pos = None):\n",
    "        '''\n",
    "            (1) symbols are passed in as a string and seperated by ','\n",
    "            (2) parameter_pos remembers which variable the function should take. \n",
    "                Default is None because the original function takes all variables.\n",
    "                It is only useful for its partial derivatives functions.\n",
    "        '''\n",
    "        self.func = func_str\n",
    "        \n",
    "        self.symbols = {}\n",
    "        for s in symbols.split(','):\n",
    "            s = s.strip()\n",
    "            self.symbols[s] = sp.Symbol(s)\n",
    "          \n",
    "        self.s = len(self.symbols)\n",
    "        self.calls = 0\n",
    "        exec(f'self._f = lambda {symbols}: {func_str}')\n",
    "        \n",
    "        self.pos = parameter_pos\n",
    "        if not self.pos:\n",
    "            self.pos = list(range(self.s))       \n",
    "    \n",
    "    def __repr__(self):\n",
    "        return self.func\n",
    "    \n",
    "    def __str__(self):\n",
    "        return self.func\n",
    "    \n",
    "    def __call__(self, variables):\n",
    "        ''' to call the function, we only take what need in the variable vector '''\n",
    "        self.calls += 1\n",
    "        s = [variables[i] for i in self.pos]\n",
    "        return self._f(*s)\n",
    "    \n",
    "    def diff(self, symbol):\n",
    "        ''' differentiate using sympy, remember all the varibale positions and return a new Function object '''\n",
    "        df = str(sp.Function(str(sp.diff(self.func, symbol))))\n",
    "        sym, pos = [], []\n",
    "        for i, s in enumerate(self.symbols.keys()):\n",
    "            if s in df:\n",
    "                sym.append(s)\n",
    "                pos.append(i)\n",
    "        return Function(df, ','.join(sym), pos)"
   ]
  },
  {
   "cell_type": "markdown",
   "metadata": {},
   "source": [
    "Here I define some helper functions to reduce potential duplicate typing later on"
   ]
  },
  {
   "cell_type": "code",
   "execution_count": 3,
   "metadata": {},
   "outputs": [],
   "source": [
    "def gradient(f:'Function') -> ['Function']:\n",
    "    ''' return a gradient vector'''\n",
    "    return np.array([f.diff(s) for s in f.symbols.keys()])\n",
    "\n",
    "def compute_gradient(g: ['Function'], x: 'np.array') -> ['value']:\n",
    "    ''' compute the gradient at given point'''\n",
    "    return np.array([d(x) for d in g])\n",
    "\n",
    "def gradient_magnitude(g, x):\n",
    "    ''' return the length of the gradient vector at point x'''\n",
    "    return np.sqrt(sum([i(x)**2 for i in g]))\n",
    "\n",
    "def vector_length(v):\n",
    "    ''' return the length of a vector'''\n",
    "    return np.sqrt(sum([i**2 for i in v]))"
   ]
  },
  {
   "cell_type": "markdown",
   "metadata": {},
   "source": [
    "# 1a Gradient Descent"
   ]
  },
  {
   "cell_type": "markdown",
   "metadata": {},
   "source": [
    "The algorithm of \"backtracking_line_search\" comes from the Kochenderfer and Wheeler book (pg.56) Algorithm 4.2, \"backtracking_line_search\"."
   ]
  },
  {
   "cell_type": "code",
   "execution_count": 4,
   "metadata": {},
   "outputs": [],
   "source": [
    "def backtracking_line_search(f, f_gradient, start, direction, step_size = 1, p = 0.5, beta = 0.5):\n",
    "    y, g = f(start), compute_gradient(f_gradient, start)\n",
    "    \n",
    "    # a step_size alpha is accepted only when f(x + alpha*d) is below the line f(x) + alpha * beta * gradient * direction\n",
    "    while f(start + step_size * direction) > (y + beta * step_size * (g.dot(direction))):\n",
    "        step_size *= p # decrease the step size by a factor if not accepetable \n",
    "    return step_size"
   ]
  },
  {
   "cell_type": "markdown",
   "metadata": {},
   "source": [
    "The basic idea of gradient_descent is:\\\n",
    "Take the opposite of the gradient at point x as direction and normalize it by dividing its length. Then use the direction to calculate the step size using 'backtracking_line_search'. Update the x by step size on the direction and do the whole thing again until ||gradient(x)|| is smaller than a tolerance.\\\n",
    "During the descent process, it will also track the iteration number and the running time. When the stopping criterion is satisfied, it will return the following information:\\\n",
    "(1) Convergence in the last iteration. This is computed using ||step * direction||\\\n",
    "(2) Absolute error. This is computed using the distance of f(x) from 0\\\n",
    "(3) Iteration number\\\n",
    "(4) Running time"
   ]
  },
  {
   "cell_type": "code",
   "execution_count": 5,
   "metadata": {},
   "outputs": [],
   "source": [
    "def gradient_descent(f : 'Function', x0 : 'np.array', fprime : ['Function'] , tol = 1e-4, b = 0.5):\n",
    "    time = clock()\n",
    "    x = x0.copy()\n",
    "    iteration, step = 0, 0\n",
    "    \n",
    "    # main loop\n",
    "    gm = gradient_magnitude(fprime, x)\n",
    "    while  gm > tol: \n",
    "        iteration += 1\n",
    "        direction = -compute_gradient(fprime, x) / gm  # normalize\n",
    "        step = backtracking_line_search(f, fprime, x, direction, beta = b)#; print(step)\n",
    "        x += step * direction\n",
    "        gm = gradient_magnitude(fprime, x)\n",
    "\n",
    "    return vector_length(step * direction), abs(f(x)), iteration, clock() - time"
   ]
  },
  {
   "cell_type": "markdown",
   "metadata": {},
   "source": [
    "# 1b Conjugate Gradient"
   ]
  },
  {
   "cell_type": "markdown",
   "metadata": {},
   "source": [
    "For my CG method, I am using Fletcher-Reeves metod: β(k) = G(k) dot G(K) / G(k-1) dot G(k-1)\\\n",
    "                           which is equivilent to ||G(k)||^2 / ||G(k-1)||^2\\\n",
    "The basic ides is similar to the Gradient_descent method, expect that stating from the second iteration, it update the direction based on β and previous direction. <b>Additionally, it reset β and previous direction every 5 iterations.</b>\\\n",
    "Similar to Gradient Descent, when the stopping criterion is satisfied, it will return the following information:\\\n",
    "(1) Convergence in the last iteration. This is computed using ||step * direction||\\\n",
    "(2) Absolute error. This is computed using the distance of f(x) from 0\\\n",
    "(3) Iteration number\\\n",
    "(4) Running time"
   ]
  },
  {
   "cell_type": "code",
   "execution_count": 6,
   "metadata": {},
   "outputs": [],
   "source": [
    "''' # Old version without restart\n",
    "def conjugate_gradients(f : 'Function', x0 : 'np.array', fprime : ['Function'] , tol = 0.0005, b = 0.5):\n",
    "    time = clock()\n",
    "    x = x0.copy()\n",
    "    iteration, step = 0, 0\n",
    "    beta, direction = 0, 0 # both zero in the first iteration, updated in subsequent iterations\n",
    "    \n",
    "    # main loop\n",
    "    gm = gradient_magnitude(fprime, x)\n",
    "    while  gm > tol: \n",
    "        iteration += 1\n",
    "        direction = -compute_gradient(fprime, x) + beta * direction\n",
    "        step = backtracking_line_search(f, fprime, x, direction, beta = b)#; print(step)\n",
    "        \n",
    "        gm_prev = gm\n",
    "        x += step * direction\n",
    "        gm = gradient_magnitude(fprime, x)\n",
    "        beta = gm**2 / gm_prev**2\n",
    "  \n",
    "    return vector_length(step * direction), abs(f(x)), iteration, clock() - time'''\n",
    "\n",
    "def conjugate_gradients(f : 'Function', x0 : 'np.array', fprime : ['Function'] , tol = 1e-4, b = 0.5):\n",
    "    time = clock()\n",
    "    x = x0.copy()\n",
    "    iteration, step, direction = 0, 0, 0 # initialize them, in case the while loops never run\n",
    "   \n",
    "    # main loop\n",
    "    gm = gradient_magnitude(fprime, x)\n",
    "    while  gm > tol: \n",
    "        beta, direction = 0, 0 # both zero at first, updated in subsequent iterations\n",
    "        while True:\n",
    "            iteration += 1\n",
    "            direction = -compute_gradient(fprime, x) / gm + beta * direction # normalize and conjugate\n",
    "            step = backtracking_line_search(f, fprime, x, direction, beta = b)#; print(step)\n",
    "\n",
    "            x += step * direction\n",
    "            gm_prev = gm\n",
    "            gm = gradient_magnitude(fprime, x)\n",
    "            \n",
    "            if iteration % 5 == 0: # restart, abandon old direction info \n",
    "                break\n",
    "            beta = (gm / gm_prev)**2 #gm**2 / gm_prev**2\n",
    "            \n",
    "  \n",
    "    return vector_length(step * direction), abs(f(x)), iteration, clock() - time"
   ]
  },
  {
   "cell_type": "markdown",
   "metadata": {},
   "source": [
    "# 1c Test"
   ]
  },
  {
   "cell_type": "markdown",
   "metadata": {},
   "source": [
    "Here I define two test functions. The second one is a 10-dim Rosenbrock function with a = 1 and b = 5"
   ]
  },
  {
   "cell_type": "code",
   "execution_count": 7,
   "metadata": {},
   "outputs": [
    {
     "name": "stdout",
     "output_type": "stream",
     "text": [
      "Test Function 1: (x0 - 1)**2 + (x1 - 1)**2 + (x2 - 1)**2 + (x3 - 1)**2 + (x4 - 1)**2 + (x5 - 1)**2 + (x6 - 1)**2 + (x7 - 1)**2 + (x8 - 1)**2 + (x9 - 1)**2\n",
      "variables: 'x0', 'x1', 'x2', 'x3', 'x4', 'x5', 'x6', 'x7', 'x8', 'x9'\n",
      "\n",
      "Test Function 2: (1 - x0)**2 + 5*(x1 - x0**2)**2 + (1 - x1)**2 + 5*(x2 - x1**2)**2 + (1 - x2)**2 + 5*(x3 - x2**2)**2 + (1 - x3)**2 + 5*(x4 - x3**2)**2 + (1 - x4)**2 + 5*(x5 - x4**2)**2 + (1 - x5)**2 + 5*(x6 - x5**2)**2 + (1 - x6)**2 + 5*(x7 - x6**2)**2 + (1 - x7)**2 + 5*(x8 - x7**2)**2 + (1 - x8)**2 + 5*(x9 - x8**2)**2\n",
      "variables: 'x0', 'x1', 'x2', 'x3', 'x4', 'x5', 'x6', 'x7', 'x8', 'x9'\n",
      "\n"
     ]
    }
   ],
   "source": [
    "# 10-dim (x-1)^2\n",
    "f_str = ' + '.join([f'(x{i} - 1)**2' for i in range(10)])\n",
    "test_func1 = Function(f_str, ','.join([f'x{i}' for i in range(10)]))\n",
    "\n",
    "# 10-dim Rosenbrock \n",
    "f_str = ' + '.join([f'(1 - x{i})**2 + 5*(x{i+1} - x{i}**2)**2' for i in range(9)])\n",
    "test_func2 = Function(f_str, ','.join([f'x{i}' for i in range(10)]))\\\n",
    "\n",
    "def print_key(d : dict):\n",
    "    return str(d.keys())[11:-2]\n",
    "\n",
    "for i, tf in enumerate([test_func1, test_func2], 1):\n",
    "    print(f'Test Function {i}: {tf}\\nvariables: {print_key(tf.symbols)}\\n')"
   ]
  },
  {
   "cell_type": "markdown",
   "metadata": {},
   "source": [
    "The test function defined below will optimize a given function over N starting points, using a given method, and report the results using a BeautifulTable.\\\n",
    "The results include a sample mean and an unbiased estimate of population std for Convergence Measure, absolute error, iteration number and running time.\\\n",
    "In this problem, I set N = 50 and each point is a 10-dim vector ranging from -50 to 5. The range covers mostly negative numbers because due to the property of Rosenbrock's function, a positive location will largely increase the running time. Thus, I only allow a few and small positive numbers."
   ]
  },
  {
   "cell_type": "code",
   "execution_count": 8,
   "metadata": {},
   "outputs": [],
   "source": [
    "def Test_Method(method, test_func, init_pt, test_fprime, sample_size):\n",
    "    result = np.array([method(test_func, init_pt[i], test_fprime) for i in range(sample_size)])\n",
    "\n",
    "    table = BeautifulTable()\n",
    "    table.set_style(BeautifulTable.STYLE_COMPACT)\n",
    "    table.column_headers = [str(test_func)]\n",
    "    \n",
    "    report = BeautifulTable()\n",
    "    table.append_row([report])\n",
    "    report.column_headers = [\"Convergence Measure\\n||x` - x||\", \"|error|\\nDistant from 0\", \"Iteration\", \"time\"]\n",
    "    \n",
    "    row = []\n",
    "    for i in range(result.shape[1]):\n",
    "        m = np.mean(result[:,i])  # sample mean\n",
    "        s = np.sqrt(sum([(k - m)**2 for k in result[:,i]]) / (sample_size - 1)) # unbiased estimate of population std\n",
    "        row.append('mean:{:.3e}\\nstd:{:.3e}'.format(m,s))\n",
    "    report.append_row(row)\n",
    "    return table"
   ]
  },
  {
   "cell_type": "code",
   "execution_count": 9,
   "metadata": {},
   "outputs": [
    {
     "name": "stdout",
     "output_type": "stream",
     "text": [
      "Method:  gradient_descent\n",
      " (x0 - 1)**2 + (x1 - 1)**2 + (x2 - 1)**2 + (x3 - 1)**2 + (x4 - 1)**2 + (x5 - 1) \n",
      "          **2 + (x6 - 1)**2 + (x7 - 1)**2 + (x8 - 1)**2 + (x9 - 1)**2           \n",
      "--------------------------------------------------------------------------------\n",
      "   +---------------------+----------------+----------------+----------------+   \n",
      "   | Convergence Measure |    |error|     |   Iteration    |      time      |   \n",
      "   |     ||x` - x||      | Distant from 0 |                |                |   \n",
      "   +---------------------+----------------+----------------+----------------+   \n",
      "   |   mean:6.049e-04    | mean:9.383e-10 | mean:9.550e+01 | mean:7.824e-03 |   \n",
      "   |    std:2.255e-03    | std:7.736e-10  | std:1.693e+01  | std:1.424e-03  |   \n",
      "   +---------------------+----------------+----------------+----------------+   \n",
      "\n",
      "Method:  conjugate_gradients\n",
      " (x0 - 1)**2 + (x1 - 1)**2 + (x2 - 1)**2 + (x3 - 1)**2 + (x4 - 1)**2 + (x5 - 1) \n",
      "          **2 + (x6 - 1)**2 + (x7 - 1)**2 + (x8 - 1)**2 + (x9 - 1)**2           \n",
      "--------------------------------------------------------------------------------\n",
      "   +---------------------+----------------+----------------+----------------+   \n",
      "   | Convergence Measure |    |error|     |   Iteration    |      time      |   \n",
      "   |     ||x` - x||      | Distant from 0 |                |                |   \n",
      "   +---------------------+----------------+----------------+----------------+   \n",
      "   |   mean:2.691e-05    | mean:2.083e-10 | mean:4.540e+01 | mean:4.719e-03 |   \n",
      "   |    std:7.191e-05    | std:5.199e-10  | std:6.688e+00  | std:7.876e-04  |   \n",
      "   +---------------------+----------------+----------------+----------------+   \n",
      "\n",
      "Method:  gradient_descent\n",
      " (1 - x0)**2 + 5*(x1 - x0**2)**2 + (1 - x1)**2 + 5*(x2 - x1**2)**2 + (1 - x2)** \n",
      " 2 + 5*(x3 - x2**2)**2 + (1 - x3)**2 + 5*(x4 - x3**2)**2 + (1 - x4)**2 + 5*(x5  \n",
      " - x4**2)**2 + (1 - x5)**2 + 5*(x6 - x5**2)**2 + (1 - x6)**2 + 5*(x7 - x6**2)** \n",
      "     2 + (1 - x7)**2 + 5*(x8 - x7**2)**2 + (1 - x8)**2 + 5*(x9 - x8**2)**2      \n",
      "--------------------------------------------------------------------------------\n",
      "   +---------------------+----------------+----------------+----------------+   \n",
      "   | Convergence Measure |    |error|     |   Iteration    |      time      |   \n",
      "   |     ||x` - x||      | Distant from 0 |                |                |   \n",
      "   +---------------------+----------------+----------------+----------------+   \n",
      "   |   mean:1.984e-06    | mean:3.189e-09 | mean:2.320e+02 | mean:5.138e-02 |   \n",
      "   |    std:1.427e-06    | std:3.348e-09  | std:2.624e+01  | std:5.601e-03  |   \n",
      "   +---------------------+----------------+----------------+----------------+   \n",
      "\n",
      "Method:  conjugate_gradients\n",
      " (1 - x0)**2 + 5*(x1 - x0**2)**2 + (1 - x1)**2 + 5*(x2 - x1**2)**2 + (1 - x2)** \n",
      " 2 + 5*(x3 - x2**2)**2 + (1 - x3)**2 + 5*(x4 - x3**2)**2 + (1 - x4)**2 + 5*(x5  \n",
      " - x4**2)**2 + (1 - x5)**2 + 5*(x6 - x5**2)**2 + (1 - x6)**2 + 5*(x7 - x6**2)** \n",
      "     2 + (1 - x7)**2 + 5*(x8 - x7**2)**2 + (1 - x8)**2 + 5*(x9 - x8**2)**2      \n",
      "--------------------------------------------------------------------------------\n",
      "   +---------------------+----------------+----------------+----------------+   \n",
      "   | Convergence Measure |    |error|     |   Iteration    |      time      |   \n",
      "   |     ||x` - x||      | Distant from 0 |                |                |   \n",
      "   +---------------------+----------------+----------------+----------------+   \n",
      "   |   mean:4.388e-06    | mean:1.146e-09 | mean:1.868e+02 | mean:5.013e-02 |   \n",
      "   |    std:2.776e-06    | std:8.633e-10  | std:2.651e+01  | std:9.578e-03  |   \n",
      "   +---------------------+----------------+----------------+----------------+   \n",
      "\n"
     ]
    }
   ],
   "source": [
    "sample_size = 50\n",
    "N = np.random.uniform(-50, 5, (sample_size, 10))\n",
    "\n",
    "for func in [test_func1, test_func2]:\n",
    "    for method in [gradient_descent, conjugate_gradients]:\n",
    "        print('Method: ', method.__name__)\n",
    "        print(Test_Method(method, func, N, gradient(func), sample_size))\n",
    "        print() # empty line"
   ]
  },
  {
   "cell_type": "markdown",
   "metadata": {},
   "source": [
    "From the tables, we can see both methods converged very well and have very little error. In terms of efficiency, the CG method with restart frequency 5 is more preferable because it takes less iteration to converge and runs faster than the GD method."
   ]
  },
  {
   "cell_type": "markdown",
   "metadata": {},
   "source": [
    "## Extra Credit"
   ]
  },
  {
   "cell_type": "markdown",
   "metadata": {},
   "source": [
    "In this problem, I am trying to test the influence of line search on the performance of both methods. I will try to move the First Wolfe Condition parameter from 0.1 to 0.9, and observe how the iteration number is depended on it.\n",
    "For the starting points I choose 20 vectors with variables from -5 to 5."
   ]
  },
  {
   "cell_type": "code",
   "execution_count": 10,
   "metadata": {
    "scrolled": false
   },
   "outputs": [
    {
     "name": "stdout",
     "output_type": "stream",
     "text": [
      "Test Function 1\n",
      "==================\n",
      "Method:  gradient_descent\n",
      "Sample mean of Iterations(Y-axis) over First Wolfe Condition(X-axis) for Function 1\n"
     ]
    },
    {
     "data": {
      "image/png": "[encoded data removed]",
      "text/plain": [
       "<Figure size 432x288 with 1 Axes>"
      ]
     },
     "metadata": {
      "needs_background": "light"
     },
     "output_type": "display_data"
    },
    {
     "name": "stdout",
     "output_type": "stream",
     "text": [
      "Method:  conjugate_gradients\n",
      "Sample mean of Iterations(Y-axis) over First Wolfe Condition(X-axis) for Function 1\n"
     ]
    },
    {
     "data": {
      "image/png": "[encoded data removed]",
      "text/plain": [
       "<Figure size 432x288 with 1 Axes>"
      ]
     },
     "metadata": {
      "needs_background": "light"
     },
     "output_type": "display_data"
    },
    {
     "name": "stdout",
     "output_type": "stream",
     "text": [
      "Test Function 2\n",
      "==================\n",
      "Method:  gradient_descent\n",
      "Sample mean of Iterations(Y-axis) over First Wolfe Condition(X-axis) for Function 2\n"
     ]
    },
    {
     "data": {
      "image/png": "[encoded data removed]",
      "text/plain": [
       "<Figure size 432x288 with 1 Axes>"
      ]
     },
     "metadata": {
      "needs_background": "light"
     },
     "output_type": "display_data"
    },
    {
     "name": "stdout",
     "output_type": "stream",
     "text": [
      "Method:  conjugate_gradients\n",
      "Sample mean of Iterations(Y-axis) over First Wolfe Condition(X-axis) for Function 2\n"
     ]
    },
    {
     "data": {
      "image/png": "[encoded data removed]",
      "text/plain": [
       "<Figure size 432x288 with 1 Axes>"
      ]
     },
     "metadata": {
      "needs_background": "light"
     },
     "output_type": "display_data"
    }
   ],
   "source": [
    "beta = np.array(list(range(1,10))) / 10\n",
    "sample_size = 20\n",
    "N = np.random.uniform(-5, 5, (sample_size, 10))\n",
    "\n",
    "for i, func in enumerate([test_func1, test_func2], 1):\n",
    "    print('Test Function', i)\n",
    "    print('==================')\n",
    "    for method in [gradient_descent, conjugate_gradients]:\n",
    "        print('Method: ', method.__name__)\n",
    "        mean, std = [], []\n",
    "        for b in beta:\n",
    "            result = np.array([method(func, N[i], gradient(func), b = b)[2] for i in range(sample_size)])\n",
    "            m = np.mean(result)\n",
    "            mean.append(m)  # sample mean\n",
    "            std.append(np.sqrt(sum([(k - m)**2 for k in result]) / (sample_size - 1))) # unbiased estimate of population std\n",
    "        print('Sample mean of Iterations(Y-axis) over First Wolfe Condition(X-axis) for Function', i)\n",
    "        plt.errorbar(beta, mean, yerr = std, ecolor = 'red', uplims=True, lolims=True, label = 'Iteration ± std')\n",
    "        plt.legend()\n",
    "        plt.show()                        "
   ]
  },
  {
   "cell_type": "markdown",
   "metadata": {},
   "source": [
    "These plots suggest the ideal value for the first wolfe condition parameter is between 0.4 and 0.6 because the performance of both methods is the best in this region."
   ]
  }
 ],
 "metadata": {
  "kernelspec": {
   "display_name": "Python 3",
   "language": "python",
   "name": "python3"
  },
  "language_info": {
   "codemirror_mode": {
    "name": "ipython",
    "version": 3
   },
   "file_extension": ".py",
   "mimetype": "text/x-python",
   "name": "python",
   "nbconvert_exporter": "python",
   "pygments_lexer": "ipython3",
   "version": "3.7.3"
  }
 },
 "nbformat": 4,
 "nbformat_minor": 2
}
