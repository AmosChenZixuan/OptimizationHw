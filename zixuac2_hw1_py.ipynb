{
 "cells": [
  {
   "cell_type": "markdown",
   "metadata": {},
   "source": [
    "Zixuan Chen 61665307"
   ]
  },
  {
   "cell_type": "markdown",
   "metadata": {},
   "source": [
    "# Problem 1"
   ]
  },
  {
   "cell_type": "markdown",
   "metadata": {},
   "source": [
    "## a. write a 1D black box unconstrained function optimizer"
   ]
  },
  {
   "cell_type": "markdown",
   "metadata": {},
   "source": [
    "The algorithm of \"initial_min_bracket\" is translated from the Kochenderfer and Wheeler book (pg.36) Algorithm 3.1, \"bracket_minimum\"."
   ]
  },
  {
   "cell_type": "code",
   "execution_count": 3,
   "metadata": {},
   "outputs": [],
   "source": [
    "def initial_min_bracket(f, start = 0, var_a = 2, step = 1e-2, expand_factor = 2.0):\n",
    "    ''' return the initial bracket and the number of function evaluations'''\n",
    "    a, fa = start, f(start, var_a)\n",
    "    b, fb = start + step, f(start + step, var_a)\n",
    "    n_func = 2 # starting with 2 function evaluation \n",
    "    # change direction if we start at an uphill\n",
    "    if fb > fa:\n",
    "        a, b = b, a\n",
    "        fa, fb = fb, fa\n",
    "        step = -step\n",
    "    # take a step each time.\n",
    "    # if the next step has a larger value, it indicates that we have just stepped over a local minima\n",
    "    # otherwise, largen the step by an expand factor and then move on\n",
    "    while True:\n",
    "        c, fc = b + step, f(b + step, var_a); n_func += 1\n",
    "        if fc > fb:\n",
    "            return (a, c, n_func) if a <= c else (c, a, n_func)\n",
    "        a, fa, b, fb = b, fb, c, fc\n",
    "        step *= expand_factor"
   ]
  },
  {
   "cell_type": "markdown",
   "metadata": {},
   "source": [
    "The algorithm  of \"optimizer1D\" is translated and modified from the Kochenderfer and Wheeler book (pg.41) Algorithm 3.3, \"golden_section_search\".\\\n",
    "It combines with the previously defined initial_min_bracket and outputs the optimized result with other useful information such as convergence measure, number of function evaluation and running time.\\\n",
    "The idea of the parameter \"tolerance\" comes from the Belegundu and Chandrupatla book (pg.65). It indicates that the loop will stop once the interval's size shrinks to the tolerance value."
   ]
  },
  {
   "cell_type": "code",
   "execution_count": 4,
   "metadata": {},
   "outputs": [],
   "source": [
    "# import libs and define constants \n",
    "import time\n",
    "import matplotlib.pyplot as plt\n",
    "import numpy as np\n",
    "Phi = (1 + np.sqrt(5))/2\n",
    "\n",
    "def optimizer1D(func, initial_point = 0, var_a = 2, initial_step_size = 1e-2, tolerance = 1e-4):\n",
    "    # optimization method used = golden section search\n",
    "    # source(s) of code used = Algorithms for Optimization by Kochenderfer and Wheeler. pg.36 and 41\n",
    "    \n",
    "    # start a clock\n",
    "    start_clock = time.perf_counter()\n",
    "    # obtain the initial bracket [a,b] and number of function evaluations\n",
    "    a, b, n_func = initial_min_bracket(func, initial_point, var_a, initial_step_size)\n",
    "    \n",
    "    # Golden Section Search\n",
    "    phi = Phi - 1\n",
    "    # initially, values are ordered as a,c,d,b on the x-axis\n",
    "    # maintain the raito inside of the interval; (d - a)/(b - a) = phi = (b - c)/(b - a)\n",
    "    d = phi * (b - a) + a  \n",
    "    fd = func(d, var_a); n_func += 1\n",
    "    \n",
    "    convergence_measure = 0 # keep track of the convergence\n",
    "    # until the stopping criterion is satisfied, compare f(c) with f(d) and truncate the part which has higher function value\n",
    "    while abs(b - a) > tolerance:\n",
    "        c = b - phi * (b - a) \n",
    "        fc = func(c, var_a); n_func += 1\n",
    "        # c - a = b - d; thus, we are tracking the distance which will be truncated in this iteration\n",
    "        convergence_measure = abs(c - a)\n",
    "        if fc < fd:\n",
    "            b, d, fd = d, c, fc  # truncate (d, b)\n",
    "        else:\n",
    "            a, b = b, c # truncate (a, c)\n",
    "\n",
    "    elapsed = time.perf_counter() - start_clock\n",
    "    return (convergence_measure, (a + b)/2, n_func, elapsed)"
   ]
  },
  {
   "cell_type": "markdown",
   "metadata": {},
   "source": [
    "## b. choose 100 random starting points"
   ]
  },
  {
   "cell_type": "code",
   "execution_count": 5,
   "metadata": {},
   "outputs": [
    {
     "name": "stdout",
     "output_type": "stream",
     "text": [
      "Peek the values in N (first and last 5):\n",
      "[-6.403805125184307, -7.808926648473528, 1037.983093148718, 18.50206340616654, -0.017434437377164116] \n",
      "...\n",
      " [2536.31393757198, 2.096879794169812, 0.00033698833119214807, -0.052142924848608406, -21524.34999918602]\n"
     ]
    }
   ],
   "source": [
    "np.random.seed(0) # for convenience, I will let random produces the same N every time\n",
    "sign = [-1, 1]\n",
    "N = [np.random.choice(sign) * np.exp(np.random.uniform(-10.0,10.0)) for _ in range(100)]\n",
    "print(\"Peek the values in N (first and last 5):\")\n",
    "print(N[:5],'\\n...\\n',N[95:])"
   ]
  },
  {
   "cell_type": "markdown",
   "metadata": {},
   "source": [
    "## c. optimize"
   ]
  },
  {
   "cell_type": "markdown",
   "metadata": {},
   "source": [
    "Creating the following functions\\\n",
    "f(x, a) = 1/2 * (x − a)^2\\\n",
    "g(x, a) = 1/4 * x^4 − a*x\\\n",
    "h(x, a) = e^x + e^−x − a*x\\\n",
    "a = 2"
   ]
  },
  {
   "cell_type": "code",
   "execution_count": 6,
   "metadata": {},
   "outputs": [],
   "source": [
    "f = lambda x, a = 2: .5*(x - a)**2\n",
    "g = lambda x, a = 2: .25*x**4 - a*x\n",
    "'''\n",
    "Some starting points from N are huge for the exponential function, which would cause overflows and make the program crash. \n",
    "therefore I choose to approximate exp(x) by taking its Taylor expansion with the first 7 terms.\n",
    "Near the minimum point, the Taylor version will be almost the same as the original, so it would not ruin the result \n",
    "'''\n",
    "from math import factorial\n",
    "def my_exp(x,n = 8):\n",
    "    return sum((x**i)/factorial(i) for i in range(n))\n",
    "\n",
    "h = lambda x, a = 2: my_exp(x) + my_exp(-x) - a*x"
   ]
  },
  {
   "cell_type": "markdown",
   "metadata": {},
   "source": [
    "Here I am computing the actual minmimun by taking (by hand) the first partial derivate for f, g and h and set them equals to 0"
   ]
  },
  {
   "cell_type": "code",
   "execution_count": 7,
   "metadata": {},
   "outputs": [
    {
     "name": "stdout",
     "output_type": "stream",
     "text": [
      "Actual minimum points are [2.0, 1.2599210498948732, 0.8813735870195429] for f, g and h respectively when a = 2\n"
     ]
    }
   ],
   "source": [
    "'''\n",
    "    df/dx = a - x = 0\n",
    "        x = a \n",
    "    dg/dx = x^3 - a = 0\n",
    "        x = a^(1/3)\n",
    "    dh/dx = e^x - e^-x - a = 0\n",
    "        y - 1/y = a | y = e^x\n",
    "        y^2 - ay -1 = 0 | y = e^x\n",
    "        y = (a + sqrt(a^2 + 4))/2 | y = e^x\n",
    "        x = ln((a + sqrt(a^2 + 4))/2)\n",
    "'''\n",
    "a = 2.0\n",
    "f_min = a\n",
    "g_min = a**(1/3)\n",
    "h_min = np.log((a + np.sqrt(a**2 + 4)) / 2) \n",
    "actual_values = [f_min, g_min, h_min]\n",
    "print('Actual minimum points are', actual_values, 'for f, g and h respectively when a = 2')"
   ]
  },
  {
   "cell_type": "code",
   "execution_count": 20,
   "metadata": {},
   "outputs": [
    {
     "name": "stdout",
     "output_type": "stream",
     "text": [
      "+--------------+---------------+---------------+---------------+---------------+\n",
      "|  functions   | Convergence M |    |error|    | #of function  |     time      |\n",
      "|              |    easure     |               |  evaluation   |               |\n",
      "+--------------+---------------+---------------+---------------+---------------+\n",
      "|    f(x,2)    | 5.259e-05 +/- | 1.192e-05 +/- | 4.098e+01 +/- | 6.128e-05 +/- |\n",
      "|              |   7.471e-06   |   7.763e-06   |   1.074e+01   |   3.281e-05   |\n",
      "+--------------+---------------+---------------+---------------+---------------+\n",
      "|    g(x,2)    | 4.766e-05 +/- | 1.144e-05 +/- | 4.015e+01 +/- | 6.862e-05 +/- |\n",
      "|              |   5.182e-06   |   6.671e-06   |   1.122e+01   |   3.819e-05   |\n",
      "+--------------+---------------+---------------+---------------+---------------+\n",
      "|    h(x,2)    | 4.479e-05 +/- | 5.610e-05 +/- | 3.936e+01 +/- | 5.605e-04 +/- |\n",
      "|              |   6.595e-06   |   1.171e-05   |   1.186e+01   |   2.264e-04   |\n",
      "+--------------+---------------+---------------+---------------+---------------+\n"
     ]
    }
   ],
   "source": [
    "# run optimizer1D over N = 100 starting points for f, g and h respectively\n",
    "result = np.array([[optimizer1D(j, initial_point = i) for i in N] for j in [f, g, h]])\n",
    "# compute and update the actual absolute value of error for all \n",
    "for estimates, real in zip(result, actual_values):\n",
    "    for i in estimates:\n",
    "        i[1] = abs(real - i[1])\n",
    "\n",
    "# report in 3*4 table\n",
    "from beautifultable import BeautifulTable\n",
    "table = BeautifulTable()\n",
    "table.column_headers = [\"functions\", \"Convergence Measure\", \"|error|\", \"#of function evaluation\", \"time\"]\n",
    "for i, j in zip(result, ['f(x,2)', 'g(x,2)', 'h(x,2)']): # for each function\n",
    "    table_row = [j]\n",
    "    for t in range(4):       # for rech result\n",
    "        m = np.mean(i[:,t])  # sample mean\n",
    "        s = np.sqrt(sum([(k - m)**2 for k in i[:,t]]) / 99) # unbiased estimate of population std\n",
    "        table_row.append('{:.3e} +/- {:.3e}'.format(m,s))\n",
    "    table.append_row(table_row)\n",
    "print(table)"
   ]
  },
  {
   "cell_type": "markdown",
   "metadata": {},
   "source": [
    "The table above reports the sample means and estimated population standard deviations over 100 runs for three test functions respectively. Each row represent a function and each column represent an information that I kept track of during the runs.\\\n",
    "It shows that my optimizer did very good estimates by keeping the absolute error less than 1e-4, and the time tells that it can find a minima very quickly."
   ]
  },
  {
   "cell_type": "markdown",
   "metadata": {},
   "source": [
    "## Extra Credit"
   ]
  },
  {
   "cell_type": "markdown",
   "metadata": {},
   "source": [
    "For this problem, I will gradually increase the tolerance threshold, which I held constant in previous problem, and run optimize1D over the same N = 100 starting point for each function respectively.\\\n",
    "This time I only pay attention to the relation between the convergence measure and the tolerance."
   ]
  },
  {
   "cell_type": "code",
   "execution_count": 7,
   "metadata": {},
   "outputs": [
    {
     "name": "stdout",
     "output_type": "stream",
     "text": [
      "Sample mean of Convergence Measure(Y-axis) over Tolerance(X-axis) for f(x,2)\n"
     ]
    },
    {
     "data": {
      "image/png": "[encoded data removed]",
      "text/plain": [
       "<Figure size 432x288 with 1 Axes>"
      ]
     },
     "metadata": {
      "needs_background": "light"
     },
     "output_type": "display_data"
    },
    {
     "name": "stdout",
     "output_type": "stream",
     "text": [
      "Sample mean of Convergence Measure(Y-axis) over Tolerance(X-axis) for g(x,2)\n"
     ]
    },
    {
     "data": {
      "image/png": "[encoded data removed]",
      "text/plain": [
       "<Figure size 432x288 with 1 Axes>"
      ]
     },
     "metadata": {
      "needs_background": "light"
     },
     "output_type": "display_data"
    },
    {
     "name": "stdout",
     "output_type": "stream",
     "text": [
      "Sample mean of Convergence Measure(Y-axis) over Tolerance(X-axis) for h(x,2)\n"
     ]
    },
    {
     "data": {
      "image/png": "[encoded data removed]",
      "text/plain": [
       "<Figure size 432x288 with 1 Axes>"
      ]
     },
     "metadata": {
      "needs_background": "light"
     },
     "output_type": "display_data"
    }
   ],
   "source": [
    "tol = [1e-5 * 1.5**i for i in range(10)]\n",
    "for func, f_name in zip([f, g, h], ['f(x,2)', 'g(x,2)', 'h(x,2)']):\n",
    "    mean, std = [], []\n",
    "    for t in tol:\n",
    "        y = [optimizer1D(func, initial_point = x, tolerance = t)[0] for x in N]  # [convergence measure]\n",
    "        mean.append(np.mean(y))   # sample mean \n",
    "        std.append(np.sqrt(sum([(k - np.mean(y))**2 for k in y]) / 99)) # unbiased estimate of population std \n",
    "    print('Sample mean of Convergence Measure(Y-axis) over Tolerance(X-axis) for', f_name)\n",
    "    plt.errorbar(tol, mean, yerr = std, ecolor = 'red', uplims=True, lolims=True, label = 'convergence measure ± std')\n",
    "    plt.legend()\n",
    "    plt.show()"
   ]
  },
  {
   "cell_type": "markdown",
   "metadata": {},
   "source": [
    "According to the data plots, as the tolerance value grows from 1e-5 to 4e-4, the convergence measure grows at a faster rate (40x change in x but over 100x change in y). Meanwhile, the standard deviation also grows. Thus, there is an proportional relation."
   ]
  }
 ],
 "metadata": {
  "kernelspec": {
   "display_name": "Python 3",
   "language": "python",
   "name": "python3"
  },
  "language_info": {
   "codemirror_mode": {
    "name": "ipython",
    "version": 3
   },
   "file_extension": ".py",
   "mimetype": "text/x-python",
   "name": "python",
   "nbconvert_exporter": "python",
   "pygments_lexer": "ipython3",
   "version": "3.7.3"
  }
 },
 "nbformat": 4,
 "nbformat_minor": 2
}
